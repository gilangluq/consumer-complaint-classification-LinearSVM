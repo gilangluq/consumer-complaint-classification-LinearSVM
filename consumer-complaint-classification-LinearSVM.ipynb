{
 "cells": [
  {
   "cell_type": "markdown",
   "metadata": {},
   "source": [
    "## Content\n",
    "\n",
    "This dataset consists of real-world consumer complaints about financial products and services. Each complaint is labeled with a specific product, framing this as a supervised text classification problem. To classify future complaints based on their content, various machine learning algorithms were employed to improve the accuracy of predictions, assigning each complaint to the appropriate product category."
   ]
  },
  {
   "cell_type": "code",
   "execution_count": 1,
   "metadata": {},
   "outputs": [],
   "source": [
    "# Importing Libraries\n",
    "import os\n",
    "import pandas as pd\n",
    "import numpy as np\n",
    "from scipy.stats import randint\n",
    "from io import StringIO\n",
    "import gc\n",
    "\n",
    "# Preprocessing\n",
    "from sklearn.model_selection import train_test_split\n",
    "\n",
    "# Feature selection\n",
    "from sklearn.feature_extraction.text import TfidfVectorizer\n",
    "from sklearn.feature_selection import chi2\n",
    "from sklearn.feature_extraction.text import TfidfTransformer\n",
    "\n",
    "# Actual models\n",
    "from sklearn.naive_bayes import MultinomialNB\n",
    "from sklearn.linear_model import LogisticRegression\n",
    "from sklearn.ensemble import RandomForestClassifier\n",
    "from sklearn.svm import LinearSVC\n",
    "\n",
    "# Evaluation metrics\n",
    "from sklearn.model_selection import cross_val_score\n",
    "from sklearn.metrics import confusion_matrix\n",
    "from sklearn import metrics\n",
    "\n",
    "# Visualization\n",
    "from IPython.display import display\n",
    "import seaborn as sns # used for plot interactive graph.\n",
    "import matplotlib.pyplot as plt\n",
    "import seaborn as sns"
   ]
  },
  {
   "cell_type": "markdown",
   "metadata": {},
   "source": [
    "## Data Preparation"
   ]
  },
  {
   "cell_type": "code",
   "execution_count": null,
   "metadata": {},
   "outputs": [],
   "source": [
    "df = pd.read_csv(\"https://storage.googleapis.com/suptech-lab-practical-data-science-public/complaints.csv.zip\")\n",
    "df.shape"
   ]
  },
  {
   "cell_type": "code",
   "execution_count": null,
   "metadata": {},
   "outputs": [],
   "source": [
    "df.head(2).T\n",
    "\n",
    "# Create a new dataframe with two columns\n",
    "df1 = df[['Product', 'Consumer complaint narrative']].copy()\n",
    "\n",
    "# Remove missing values (NaN)\n",
    "df1 = df1[pd.notnull(df1['Consumer complaint narrative'])]\n",
    "\n",
    "# Renaming second column for a simpler name\n",
    "df1.columns = ['Product', 'Complaint']\n",
    "\n",
    "df1.shape"
   ]
  },
  {
   "cell_type": "code",
   "execution_count": null,
   "metadata": {},
   "outputs": [],
   "source": [
    "total = df1['Complaint'].notnull().sum()\n",
    "round((total/len(df)*100),1)"
   ]
  },
  {
   "cell_type": "code",
   "execution_count": null,
   "metadata": {},
   "outputs": [],
   "source": [
    "# Keep 1.5 million (36.3%) that have an actual complaint body populated\n",
    "del df\n",
    "gc.collect()"
   ]
  },
  {
   "cell_type": "code",
   "execution_count": null,
   "metadata": {},
   "outputs": [],
   "source": [
    "df1.head(15)"
   ]
  },
  {
   "cell_type": "code",
   "execution_count": null,
   "metadata": {},
   "outputs": [],
   "source": [
    "pd.DataFrame(df1.Product.unique()).values"
   ]
  },
  {
   "cell_type": "markdown",
   "metadata": {},
   "source": [
    "There are 21 distinct classes or categories (i.e., the target our model aims to predict). However, some classes overlap with others. For example, the categories Credit card and Prepaid card are also covered by the broader Credit card or prepaid card category. Now, if a new complaint is related to a credit card, the algorithm could classify it as either Credit card or Credit card or prepaid card, both of which would be correct. However, this could negatively impact the model's performance. To prevent this issue, certain category names should be revised."
   ]
  },
  {
   "cell_type": "code",
   "execution_count": null,
   "metadata": {},
   "outputs": [],
   "source": [
    "# Renaming categories\n",
    "df2 = df1.replace({\n",
    "    'Product':\n",
    "      {\n",
    "        'Credit reporting': 'Credit reporting, repair, or other',\n",
    "        'Credit reporting or other personal consumer reports': 'Credit reporting, repair, or other',\n",
    "        'Credit reporting, credit repair services, or other personal consumer reports': 'Credit reporting, repair, or other',\n",
    "        'Credit card': 'Credit card or prepaid card',\n",
    "        'Prepaid card': 'Credit card or prepaid card',\n",
    "        'Payday loan': 'Payday loan, title loan, personal loan, or advance loan',\n",
    "        'Payday loan, title loan, or personal loan': 'Payday loan, title loan, personal loan, or advance loan',\n",
    "        'Money transfers': 'Money transfer, virtual currency, or money service',\n",
    "        'Virtual currency': 'Money transfer, virtual currency, or money service'\n",
    "      }\n",
    "    },\n",
    "    inplace = False) # if this was a MASSIVE dataset, you may not want to make a copy but rather use df1 and inplace = True"
   ]
  },
  {
   "cell_type": "code",
   "execution_count": null,
   "metadata": {},
   "outputs": [],
   "source": [
    "del df1\n",
    "gc.collect()"
   ]
  },
  {
   "cell_type": "code",
   "execution_count": null,
   "metadata": {},
   "outputs": [],
   "source": [
    "df2.groupby('Product').count()"
   ]
  },
  {
   "cell_type": "code",
   "execution_count": null,
   "metadata": {},
   "outputs": [],
   "source": [
    "# Note there are only 10 complaints of 1.5 MILLION that are classified as `Debt or credit management`, so we will combine them with `Other financial service`.\n",
    "df2.replace({\n",
    "    'Product':\n",
    "      {\n",
    "        'Debt or credit management': 'Other financial service'\n",
    "      }\n",
    "    },\n",
    "    inplace = True)"
   ]
  },
  {
   "cell_type": "code",
   "execution_count": null,
   "metadata": {},
   "outputs": [],
   "source": [
    "len(df2.Product.unique())"
   ]
  },
  {
   "cell_type": "code",
   "execution_count": null,
   "metadata": {},
   "outputs": [],
   "source": [
    "# Renaming categories\n",
    "df2 = df1.replace({\n",
    "    'Product':\n",
    "      {\n",
    "        'Credit reporting': 'Credit reporting, repair, or other',\n",
    "        'Credit reporting or other personal consumer reports': 'Credit reporting, repair, or other',\n",
    "        'Credit reporting, credit repair services, or other personal consumer reports': 'Credit reporting, repair, or other',\n",
    "        'Credit card': 'Credit card or prepaid card',\n",
    "        'Prepaid card': 'Credit card or prepaid card',\n",
    "        'Payday loan': 'Payday loan, title loan, personal loan, or advance loan',\n",
    "        'Payday loan, title loan, or personal loan': 'Payday loan, title loan, personal loan, or advance loan',\n",
    "        'Money transfers': 'Money transfer, virtual currency, or money service',\n",
    "        'Virtual currency': 'Money transfer, virtual currency, or money service'\n",
    "      }\n",
    "    },\n",
    "    inplace = False) # if this was a MASSIVE dataset, you may not want to make a copy but rather use df1 and inplace = True"
   ]
  },
  {
   "cell_type": "code",
   "execution_count": null,
   "metadata": {},
   "outputs": [],
   "source": [
    "# Note: because we have limited RAM on free tier, we'll want to clean up variables we're no longer using\n",
    "# In a real-world data science setup, we'd likely want to keep these around in case we need to go back to them for further experimentation\n",
    "del df1\n",
    "gc.collect()"
   ]
  }
 ],
 "metadata": {
  "kernelspec": {
   "display_name": "Python 3",
   "language": "python",
   "name": "python3"
  },
  "language_info": {
   "codemirror_mode": {
    "name": "ipython",
    "version": 3
   },
   "file_extension": ".py",
   "mimetype": "text/x-python",
   "name": "python",
   "nbconvert_exporter": "python",
   "pygments_lexer": "ipython3",
   "version": "3.11.9"
  }
 },
 "nbformat": 4,
 "nbformat_minor": 2
}
